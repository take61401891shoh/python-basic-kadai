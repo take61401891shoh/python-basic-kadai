{
  "nbformat": 4,
  "nbformat_minor": 0,
  "metadata": {
    "colab": {
      "provenance": []
    },
    "kernelspec": {
      "name": "python3",
      "display_name": "Python 3"
    },
    "language_info": {
      "name": "python"
    }
  },
  "cells": [
    {
      "cell_type": "code",
      "execution_count": 3,
      "metadata": {
        "colab": {
          "base_uri": "https://localhost:8080/"
        },
        "id": "tE8AgZy3_bp2",
        "outputId": "816b54dd-b3ea-4b8c-8900-bebd043b1df7"
      },
      "outputs": [
        {
          "output_type": "stream",
          "name": "stdout",
          "text": [
            "名前は侍太郎です\n",
            "年齢は30です\n"
          ]
        }
      ],
      "source": [
        "class Human:\n",
        "    def __init__(self, name, age):\n",
        "        self.name = name\n",
        "        self.age = age\n",
        "    def set_name(self, name):\n",
        "        self.name = name\n",
        "    def set_age(self, age):\n",
        "        self.age = age\n",
        "\n",
        "    def printinfo(self):\n",
        "        print(f\"名前は{self.name}です\")\n",
        "        print(f\"年齢は{self.age}です\")\n",
        "\n",
        "human = Human(\"侍太郎\", 30)\n",
        "human.printinfo()"
      ]
    }
  ]
}