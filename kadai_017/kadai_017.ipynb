{
  "nbformat": 4,
  "nbformat_minor": 0,
  "metadata": {
    "colab": {
      "provenance": []
    },
    "kernelspec": {
      "name": "python3",
      "display_name": "Python 3"
    },
    "language_info": {
      "name": "python"
    }
  },
  "cells": [
    {
      "cell_type": "code",
      "execution_count": 8,
      "metadata": {
        "colab": {
          "base_uri": "https://localhost:8080/"
        },
        "id": "At8MhR9lznBc",
        "outputId": "a618ca5c-6b79-4169-bff0-57a765f86d85"
      },
      "outputs": [
        {
          "output_type": "stream",
          "name": "stdout",
          "text": [
            "山田太郎は、大人である。\n",
            "鈴木花子は、大人である。\n",
            "斉藤陽大は、大人ではない。\n",
            "キム・スルギは、大人ではない。\n",
            "Mr.Smithは、大人である。\n"
          ]
        }
      ],
      "source": [
        "#Humanクラスの作成\n",
        "class Human:\n",
        "    def __init__(self, name, age):\n",
        "        self.name = name\n",
        "        self.age = age\n",
        "\n",
        "#check_adultメソッドを作成\n",
        "    def check_adult(self):\n",
        "        if self.age >= 20:\n",
        "            print(f\"{self.name}は、大人である。\")\n",
        "        else:\n",
        "            print(f\"{self.name}は、大人ではない。\")\n",
        "\n",
        "#Humanクラスのインスタンスを複数生成\n",
        "human01 = Human(\"山田太郎\", 38)\n",
        "human02 = Human(\"鈴木花子\", 55)\n",
        "human03 = Human(\"斉藤陽大\", 9)\n",
        "human04 = Human(\"キム・スルギ\", 18)\n",
        "human05 = Human(\"Mr.Smith\", 100)\n",
        "\n",
        "#Humanクラスのインスタンスをリストに追加\n",
        "humans = [human01, human02, human03, human04, human05]\n",
        "\n",
        "#リストの要素数分check_adultメソッドを呼び出す\n",
        "for human in humans:\n",
        "  human.check_adult()\n",
        "\n",
        "\n",
        "\n"
      ]
    }
  ]
}