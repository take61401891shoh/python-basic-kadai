{
  "nbformat": 4,
  "nbformat_minor": 0,
  "metadata": {
    "colab": {
      "provenance": []
    },
    "kernelspec": {
      "name": "python3",
      "display_name": "Python 3"
    },
    "language_info": {
      "name": "python"
    }
  },
  "cells": [
    {
      "cell_type": "code",
      "execution_count": 60,
      "metadata": {
        "colab": {
          "base_uri": "https://localhost:8080/"
        },
        "id": "OLeErGV5l3Q1",
        "outputId": "6b40da00-0245-44e4-9d6e-929dd26f28ec"
      },
      "outputs": [
        {
          "output_type": "stream",
          "name": "stdout",
          "text": [
            "税込価格418.0円\n"
          ]
        }
      ],
      "source": [
        "def total_price(price,tax):\n",
        "    tax = price * 0.1\n",
        "    total_price = price + tax\n",
        "    return total_price\n",
        "\n",
        "sum = total_price(380,10)\n",
        "print(f\"税込価格{sum}円\")\n"
      ]
    }
  ]
}