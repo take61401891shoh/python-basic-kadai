{
  "nbformat": 4,
  "nbformat_minor": 0,
  "metadata": {
    "colab": {
      "provenance": []
    },
    "kernelspec": {
      "name": "python3",
      "display_name": "Python 3"
    },
    "language_info": {
      "name": "python"
    }
  },
  "cells": [
    {
      "cell_type": "code",
      "execution_count": 24,
      "metadata": {
        "colab": {
          "base_uri": "https://localhost:8080/"
        },
        "id": "OLeErGV5l3Q1",
        "outputId": "edd5cf9e-aaf4-43df-fc7b-ffcae3fe8980"
      },
      "outputs": [
        {
          "output_type": "stream",
          "name": "stdout",
          "text": [
            "税込10780.0円\n"
          ]
        }
      ],
      "source": [
        "def calculate_total(price,tax_rate):\n",
        "\n",
        "    tax = price * tax_rate / 100\n",
        "    total = price + tax\n",
        "    print(f\"税込{total}円\")\n",
        "\n",
        "calculate_total(9800,10)"
      ]
    }
  ]
}