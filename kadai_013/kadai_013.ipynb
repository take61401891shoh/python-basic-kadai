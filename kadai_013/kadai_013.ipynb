{
  "nbformat": 4,
  "nbformat_minor": 0,
  "metadata": {
    "colab": {
      "provenance": []
    },
    "kernelspec": {
      "name": "python3",
      "display_name": "Python 3"
    },
    "language_info": {
      "name": "python"
    }
  },
  "cells": [
    {
      "cell_type": "code",
      "execution_count": 17,
      "metadata": {
        "colab": {
          "base_uri": "https://localhost:8080/"
        },
        "id": "OLeErGV5l3Q1",
        "outputId": "7e701c0c-2f1e-4efb-9a4e-90bf15299a23"
      },
      "outputs": [
        {
          "output_type": "stream",
          "name": "stdout",
          "text": [
            "税込4378.0円\n"
          ]
        }
      ],
      "source": [
        "#引数　商品価格＝price、消費税(10％)＝tax、税込価格＝total\n",
        "\n",
        "def calculate_total(price):\n",
        "\n",
        "    tax = (price * 0.1)\n",
        "    total = price + tax\n",
        "    print(f\"税込{total}円\")\n",
        "\n",
        "calculate_total(3980)"
      ]
    }
  ]
}